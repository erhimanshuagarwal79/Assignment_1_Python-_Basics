{
  "cells": [
    {
      "cell_type": "raw",
      "id": "78052f85-ddfb-4a93-b914-498d97ed834f",
      "metadata": {
        "id": "78052f85-ddfb-4a93-b914-498d97ed834f"
      },
      "source": [
        "Assignment 1 Python Basics\n",
        "\n",
        "1. What is Python, and why is it popular?\n",
        "\n",
        "- Python is a programming language in which set of rule or instruction / codes has been inserted so that computer can execute specific task.\n",
        "                  or\n",
        "- Python is easy to understand and write, which makes it a popular choice among developers and programmers worldwide.\n",
        "\n",
        "Python is popular because:-\n",
        "- it is compatible with various programming paradiagms , like procedural, object-oriented , functional programming etc.\n",
        "- it is versatile.\n",
        "- scalability\n",
        "- simplicity and readability\n",
        "- good & vast ecosystem of libraries like pandas, numpy, matplotlib, pycharm etc.\n",
        "- community support as it is used all around the world.\n",
        "\n",
        "2. What is an interpreter in Python?\n",
        "\n",
        "- An interpreter inpython is a program which reads and executes Python code line by line and it translates Python statements into machine-readable instructions (bytecode) and then executes them. This entire process happens in real-time, which means we can see the results of our code immediately just after running it.\n",
        "\n",
        "It works in the below mentioned steps:-\n",
        "- Reading and parsing\n",
        "- compiling to bytecode\n",
        "- Executing Bytecode\n",
        "- real time execution\n",
        "\n",
        "3. What are pre-defined keywords in Python ?\n",
        "- Keywords are the reserved words in Python that have special meanings and cannot be used as identifiers (variable names, function names, etc.). Keywords are case sensitive and they cannot be redefined and over write with in a python programming.\n",
        "examples: fale, none, true, false, del, def, else, if ,elif etc.\n",
        "\n",
        "cmd which we can use to pop-up the kwywords in python is: help(\"keywords\")\n",
        "\n",
        "4. Can keywords be used as variable names?\n",
        "- No, keywords cannot be used as variable names in programming languages like Python. Keywords have specific, predefined meanings within the language and are used for syntax and structure.\n",
        "\n",
        "5. What is mutability in Python ?\n",
        "- Mutability means changebale or modifiable such as lists and dictionaries as these can be modified after creation.\n",
        "- Mutability affects how objects are stored and manipulated in memory , impacting performance memory usage and concurrency in python programs.\n",
        "\n",
        "6. Why are lists mutable, but tuples are immutable ?\n",
        "- Tuples and lists are the same in every way except two: tuples use parentheses instead of square brackets, and the items in tuples cannot be modified (but the items in lists can be modified). We often call lists mutable [meaning they can be changed] and tuples immutable (meaning they cannot be changed).\n",
        "\n",
        "7.  What is the difference between “==” and “is” operators in Python ?\n",
        "- operators are very special symbols and keywords that are used to carryout specific actions on numbers or variables in python expressions.\n",
        "\n",
        "-  \"==\" compares values or his operator checks if the values of two objects are equal. It compares the content or data that the objects hold while.\n",
        "\n",
        "-  \"is\" is an identity operator in which operator checks if two variables refer to the same object in memory. It compares the memory addresses of the objects. The is operator evaluates to True only if both variables point to the exact same object.\n",
        "\n",
        "8. What are logical operators in Python ?\n",
        "- Logical operators are used to logically decides something.\n",
        "logical operators are (and, or, not).\n",
        "\n",
        "for example:\n",
        "And\n",
        "true and true = true\n",
        "true and false = false\n",
        "false and true = false\n",
        "false and false = false\n",
        "\n",
        "or\n",
        "true or true = true\n",
        "true or false = true\n",
        "false or true = true\n",
        "false or false = false\n",
        "\n",
        "9. What is type casting in Python ?\n",
        "- Type casting in python is a process of changing the data of a value or object from one data type to another.\n",
        "\n",
        "Python provides some built in functions for type cast such as:\n",
        "int(), float(), str(), list[], tuple(),etc.\n",
        "for example to change an str to an int\n",
        "a=\"2\"\n",
        "b=3\n",
        "a+b= (it will throws an error) , so now to change the str in error we simpley use cmd;\n",
        "-  int(a)+b\n",
        "\n",
        "10. What is the difference between implicit and explicit type casting ?\n",
        "- Python understands this Implicit type casting as it is a standard datatype. for example:\n",
        "a=2\n",
        "if we check its type , it shows an integer(int).\n",
        "\n",
        "- while on other hand for explicit type casting we need to change this data type using inbuilt functions like str, int, float, bool etc.\n",
        "\n",
        "a=\"2\"\n",
        "if we check its type it will show us as \"str\"\n",
        "but to change this in integer we use, int(a)=2\n",
        "and similarly for float as well i.e float(a)=2.0\n",
        "\n",
        "11. What is the purpose of conditional statements in Python ?\n",
        "-  Conditionals in python are used to execute the code based on the evaluation of one or more conditions.\n",
        "- also it refers to the mechanism that governs the order in which statement or instructions are executed.\n",
        "this is crucial for implementing logic in our statements.\n",
        "- few conditons are :- if, else, elif, for, while etc.\n",
        "\n",
        "12. How does the elif statement work ?\n",
        "-  The elif statement in Python, is used for \"else if,\" is used to check multiple conditions sequentially. It allows us to create a chain of conditional checks, where only one block of code will be executed.\n",
        "\n",
        "Here's how it works:\n",
        "- Initial if condition:\n",
        "The code first evaluates the condition in the \"if\" statement. If it's true, the code block under the \"if\" statement is executed, and the rest of the \"elif\" and \"else\" blocks are skipped.\n",
        "- Subsequent elif conditions:\n",
        "If the \"if\" condition is false, the code moves to the first \"elif\" condition. If that condition is true, the corresponding code block is executed, and the rest of the \"elif\" and \"else\" blocks are skipped.\n",
        "- Multiple elif conditions:\n",
        "We can have multiple \"elif\" statements, each checking a different condition. The code will go through each \"elif\" condition in order until it finds one that is true or until it reaches the \"else\" statement.\n",
        "- Optional else condition:\n",
        "If none of the \"if\" or \"elif\" conditions are true, the code block under the optional \"else\" statement is executed.\n",
        "- Order of execution:\n",
        "The conditions are checked in the order they appear in the code. Once a true condition is found, its corresponding code block is executed, and the rest are skipped.\n",
        "\n",
        "Example:\n",
        "Python\n",
        "x = 10\n",
        "if x > 10:\n",
        "    print(\"x is greater than 10\")\n",
        "elif x < 10:\n",
        "    print(\"x is less than 10\")\n",
        "else:\n",
        "    print(\"x is equal to 10\")\n",
        "In this example, the if condition is false, the elif condition is also false, and the code will execute the else block, printing \"x is equal to 10\".\n",
        "\n",
        "13. What is the difference between for and while loops ?\n",
        "-  Loops are used to repeat the sequence of actions/code until a specific condition is fulfilled.\n",
        "Difference between for loop and while loops is as follows:\n",
        "\n",
        "- for loop:\n",
        "Primarily used for iterating over a sequence (like a list, tuple, string, or range) or any iterable object. It is used when the number of iterations is known in advance.\n",
        "\n",
        "- while loop:\n",
        "Used to repeatedly execute a block of code as long as a specified condition is true. It's suitable when the number of iterations is not known beforehand and depends on a condition.\n",
        "\n",
        "- Syntax:\n",
        "for loop:\n",
        "Uses a sequence to iterate over, automatically handling the iteration process.\n",
        "while loop:\n",
        "Uses a condition that is evaluated before each iteration. The loop continues as long as the condition remains true.\n",
        "\n",
        "- Iteration Control:\n",
        "for loop: Automatically iterates through the sequence, processing each element once.\n",
        "while loop: Requires manual control of the loop variable to ensure the condition eventually becomes false, preventing infinite loops.\n",
        "\n",
        "- When to Use Each:\n",
        "Use a for loop when you need to iterate over a known sequence of items or when the number of iterations is predetermined.\n",
        "Use a while loop when you need to repeat a block of code until a specific condition is met, and the number of iterations is not known in advance.\n",
        "\n",
        "- Performance:\n",
        "for loops are generally faster than while loops when iterating over sequences because they use an iterator to access each element, which is typically more efficient than manually incrementing an index.\n",
        "\n",
        "- Flexibility:\n",
        "while loops offer more flexibility in controlling the loop's execution because you can define a complex condition and modify the loop variable as needed.\n",
        "\n",
        "14. Describe a scenario where a while loop is more suitable than a for loop.\n",
        "- A \"while\" loop is more suitable than a \"for\" loop when the number of iterations is not known beforehand, or when the loop's termination depends on a condition that can change during the loop's execution.\n",
        "\n",
        "Let's Consider a scenario where we need to read user input until a specific word, like \"quit\", is entered. As we don't know how many inputs the user will provide. A while loop is ideal here because the loop continues as long as the input is not \"quit\".\n",
        "\n",
        "Example:\n",
        "Python\n",
        "user_input = \"\"\n",
        "while user_input != \"quit\":\n",
        "  user_input = input(\"Enter a word ('quit' to exit): \")\n",
        "  print(\"You entered:\", user_input)\n",
        "In this example, the loop continues until the user types \"quit\", and the number of iterations is not fixed. A for loop would not be appropriate because it requires a predefined sequence or range for iteration, which is absent in this case."
      ]
    },
    {
      "cell_type": "markdown",
      "source": [
        "Practical Questions"
      ],
      "metadata": {
        "id": "IIe4_3E2XdNz"
      },
      "id": "IIe4_3E2XdNz"
    },
    {
      "cell_type": "code",
      "source": [
        "#Write a Python program to print \"Hello, World\"!\n",
        "print(\"Hello World\")"
      ],
      "metadata": {
        "colab": {
          "base_uri": "https://localhost:8080/"
        },
        "id": "USUw42HHXblb",
        "outputId": "1741ae2e-bade-4a18-a7fb-a7766a27e7f0"
      },
      "id": "USUw42HHXblb",
      "execution_count": 4,
      "outputs": [
        {
          "output_type": "stream",
          "name": "stdout",
          "text": [
            "Hello World\n"
          ]
        }
      ]
    },
    {
      "cell_type": "code",
      "source": [
        "# Write a Python program that displays your name and age.\n",
        "print(\"name:\", \"Himanshu\")\n",
        "print(\"age:\", 28)"
      ],
      "metadata": {
        "colab": {
          "base_uri": "https://localhost:8080/"
        },
        "id": "EjwnEMOFYEaf",
        "outputId": "b862d04d-3582-448d-c433-f71b54f6b0d3"
      },
      "id": "EjwnEMOFYEaf",
      "execution_count": 6,
      "outputs": [
        {
          "output_type": "stream",
          "name": "stdout",
          "text": [
            "name: Himanshu\n",
            "age: 28\n"
          ]
        }
      ]
    },
    {
      "cell_type": "code",
      "source": [
        "# Write code to print all the pre-defined keywords in Python using the keyword library.\n",
        "help(\"keywords\")"
      ],
      "metadata": {
        "colab": {
          "base_uri": "https://localhost:8080/"
        },
        "id": "XgOA6ls2YlDL",
        "outputId": "bc8b5dd8-89cd-4ddf-b36f-19b71ae870b6"
      },
      "id": "XgOA6ls2YlDL",
      "execution_count": 8,
      "outputs": [
        {
          "output_type": "stream",
          "name": "stdout",
          "text": [
            "\n",
            "Here is a list of the Python keywords.  Enter any keyword to get more help.\n",
            "\n",
            "False               class               from                or\n",
            "None                continue            global              pass\n",
            "True                def                 if                  raise\n",
            "and                 del                 import              return\n",
            "as                  elif                in                  try\n",
            "assert              else                is                  while\n",
            "async               except              lambda              with\n",
            "await               finally             nonlocal            yield\n",
            "break               for                 not                 \n",
            "\n"
          ]
        }
      ]
    },
    {
      "cell_type": "code",
      "source": [
        "# Write a program that checks if a given word is a Python keyword.\n",
        "import keyword\n",
        "def is_keyword(word):\n",
        "  pass"
      ],
      "metadata": {
        "id": "lmuowtUgaGqP"
      },
      "id": "lmuowtUgaGqP",
      "execution_count": 11,
      "outputs": []
    },
    {
      "cell_type": "code",
      "source": [
        "#as i know \"return\" is a keyword, then why im getting it as \"false\"?\n",
        "import keyword\n",
        "keyword = \"return\"\n",
        "#check if it is a keyword\n",
        "if is_keyword(keyword):\n",
        "    print(\"true\",\"(word) is a keyword\")\n",
        "else:\n",
        "    print(\"false\",\"(word) is not a keyword\")"
      ],
      "metadata": {
        "colab": {
          "base_uri": "https://localhost:8080/"
        },
        "id": "h9PgQ1QiatIx",
        "outputId": "d0e7b8ba-57c3-43fa-bafc-53184a65cb56"
      },
      "id": "h9PgQ1QiatIx",
      "execution_count": 18,
      "outputs": [
        {
          "output_type": "stream",
          "name": "stdout",
          "text": [
            "false (word) is not a keyword\n"
          ]
        }
      ]
    },
    {
      "cell_type": "code",
      "source": [
        "import keyword\n",
        "word = \"by\"\n",
        "#check if it is a keyword\n",
        "if (keyword).iskeyword(word):\n",
        "    print(\"true\",\"(word) is a keyword\")\n",
        "else:\n",
        "    print(\"false\",\"(word) is not a keyword\")"
      ],
      "metadata": {
        "colab": {
          "base_uri": "https://localhost:8080/"
        },
        "id": "vpm2xLbCeQYS",
        "outputId": "f1227ba6-e30f-4c1e-cd65-d590824ef368"
      },
      "id": "vpm2xLbCeQYS",
      "execution_count": 16,
      "outputs": [
        {
          "output_type": "stream",
          "name": "stdout",
          "text": [
            "false (word) is not a keyword\n"
          ]
        }
      ]
    },
    {
      "cell_type": "code",
      "source": [
        "# Create a list and tuple in Python, and demonstrate how attempting to change an element works differently for each.\n",
        "my_list = [1,2,3,4,5,\"Himanshu\",2.45]\n",
        "my_tuple = (1,2,3,4,5,\"Himanshu\",2.45)\n",
        "my_list[3],my_list[5],my_list[-1]= 13,\"Himanshu Agarwal\",245\n",
        "my_tuple[5]= \"Himanshu Agarwal\"\n",
        "print (my_list)\n",
        "print (my_tuple)"
      ],
      "metadata": {
        "colab": {
          "base_uri": "https://localhost:8080/",
          "height": 219
        },
        "id": "vyLT5hs3ejL1",
        "outputId": "d18be67a-40cd-421f-e1d0-b9f6072c3cf4"
      },
      "id": "vyLT5hs3ejL1",
      "execution_count": 41,
      "outputs": [
        {
          "output_type": "error",
          "ename": "TypeError",
          "evalue": "'tuple' object does not support item assignment",
          "traceback": [
            "\u001b[0;31m---------------------------------------------------------------------------\u001b[0m",
            "\u001b[0;31mTypeError\u001b[0m                                 Traceback (most recent call last)",
            "\u001b[0;32m<ipython-input-41-00dcbb14fb67>\u001b[0m in \u001b[0;36m<cell line: 0>\u001b[0;34m()\u001b[0m\n\u001b[1;32m      3\u001b[0m \u001b[0mmy_tuple\u001b[0m \u001b[0;34m=\u001b[0m \u001b[0;34m(\u001b[0m\u001b[0;36m1\u001b[0m\u001b[0;34m,\u001b[0m\u001b[0;36m2\u001b[0m\u001b[0;34m,\u001b[0m\u001b[0;36m3\u001b[0m\u001b[0;34m,\u001b[0m\u001b[0;36m4\u001b[0m\u001b[0;34m,\u001b[0m\u001b[0;36m5\u001b[0m\u001b[0;34m,\u001b[0m\u001b[0;34m\"Himanshu\"\u001b[0m\u001b[0;34m,\u001b[0m\u001b[0;36m2.45\u001b[0m\u001b[0;34m)\u001b[0m\u001b[0;34m\u001b[0m\u001b[0;34m\u001b[0m\u001b[0m\n\u001b[1;32m      4\u001b[0m \u001b[0mmy_list\u001b[0m\u001b[0;34m[\u001b[0m\u001b[0;36m3\u001b[0m\u001b[0;34m]\u001b[0m\u001b[0;34m,\u001b[0m\u001b[0mmy_list\u001b[0m\u001b[0;34m[\u001b[0m\u001b[0;36m5\u001b[0m\u001b[0;34m]\u001b[0m\u001b[0;34m,\u001b[0m\u001b[0mmy_list\u001b[0m\u001b[0;34m[\u001b[0m\u001b[0;34m-\u001b[0m\u001b[0;36m1\u001b[0m\u001b[0;34m]\u001b[0m\u001b[0;34m=\u001b[0m \u001b[0;36m13\u001b[0m\u001b[0;34m,\u001b[0m\u001b[0;34m\"Himanshu Agarwal\"\u001b[0m\u001b[0;34m,\u001b[0m\u001b[0;36m245\u001b[0m\u001b[0;34m\u001b[0m\u001b[0;34m\u001b[0m\u001b[0m\n\u001b[0;32m----> 5\u001b[0;31m \u001b[0mmy_tuple\u001b[0m\u001b[0;34m[\u001b[0m\u001b[0;36m5\u001b[0m\u001b[0;34m]\u001b[0m\u001b[0;34m=\u001b[0m \u001b[0;34m\"Himanshu Agarwal\"\u001b[0m\u001b[0;34m\u001b[0m\u001b[0;34m\u001b[0m\u001b[0m\n\u001b[0m\u001b[1;32m      6\u001b[0m \u001b[0mprint\u001b[0m \u001b[0;34m(\u001b[0m\u001b[0mmy_list\u001b[0m\u001b[0;34m)\u001b[0m\u001b[0;34m\u001b[0m\u001b[0;34m\u001b[0m\u001b[0m\n\u001b[1;32m      7\u001b[0m \u001b[0mprint\u001b[0m \u001b[0;34m(\u001b[0m\u001b[0mmy_tuple\u001b[0m\u001b[0;34m)\u001b[0m\u001b[0;34m\u001b[0m\u001b[0;34m\u001b[0m\u001b[0m\n",
            "\u001b[0;31mTypeError\u001b[0m: 'tuple' object does not support item assignment"
          ]
        }
      ]
    },
    {
      "cell_type": "code",
      "source": [
        "print(my_list)"
      ],
      "metadata": {
        "colab": {
          "base_uri": "https://localhost:8080/"
        },
        "id": "G6HmPiJRk5t4",
        "outputId": "a2739833-f373-4d46-b2e5-ae08ea94fbdc"
      },
      "id": "G6HmPiJRk5t4",
      "execution_count": 42,
      "outputs": [
        {
          "output_type": "stream",
          "name": "stdout",
          "text": [
            "[1, 2, 3, 13, 5, 'Himanshu Agarwal', 245]\n"
          ]
        }
      ]
    },
    {
      "cell_type": "code",
      "source": [
        "# Write a function to demonstrate the behavior of mutable and immutable arguments.\n",
        "#mutable function\n",
        "my_list=[1,2,3,4,5,'himanshu']\n",
        "my_list[-1],my_list[0]=my_list[0],my_list[-1]\n",
        "print(my_list)"
      ],
      "metadata": {
        "colab": {
          "base_uri": "https://localhost:8080/"
        },
        "id": "3L8bcVEyoGNh",
        "outputId": "ce9b6775-b35d-4641-c00c-731afe163626"
      },
      "id": "3L8bcVEyoGNh",
      "execution_count": 43,
      "outputs": [
        {
          "output_type": "stream",
          "name": "stdout",
          "text": [
            "['himanshu', 2, 3, 4, 5, 1]\n"
          ]
        }
      ]
    },
    {
      "cell_type": "code",
      "source": [
        "#immutable\n",
        "my_tuple=(1,2,3,4,5,'himanshu')\n",
        "my_tuple[-1],my_tuple[0]=my_tuple[0],my_tuple[-1]\n",
        "print(my_tuple)"
      ],
      "metadata": {
        "colab": {
          "base_uri": "https://localhost:8080/",
          "height": 200
        },
        "id": "Yf4ignoervWJ",
        "outputId": "ca893423-b970-4c1e-ed3b-73cf0021483a"
      },
      "id": "Yf4ignoervWJ",
      "execution_count": 44,
      "outputs": [
        {
          "output_type": "error",
          "ename": "TypeError",
          "evalue": "'tuple' object does not support item assignment",
          "traceback": [
            "\u001b[0;31m---------------------------------------------------------------------------\u001b[0m",
            "\u001b[0;31mTypeError\u001b[0m                                 Traceback (most recent call last)",
            "\u001b[0;32m<ipython-input-44-6fe98b39bd03>\u001b[0m in \u001b[0;36m<cell line: 0>\u001b[0;34m()\u001b[0m\n\u001b[1;32m      1\u001b[0m \u001b[0;31m#immutable\u001b[0m\u001b[0;34m\u001b[0m\u001b[0;34m\u001b[0m\u001b[0m\n\u001b[1;32m      2\u001b[0m \u001b[0mmy_tuple\u001b[0m\u001b[0;34m=\u001b[0m\u001b[0;34m(\u001b[0m\u001b[0;36m1\u001b[0m\u001b[0;34m,\u001b[0m\u001b[0;36m2\u001b[0m\u001b[0;34m,\u001b[0m\u001b[0;36m3\u001b[0m\u001b[0;34m,\u001b[0m\u001b[0;36m4\u001b[0m\u001b[0;34m,\u001b[0m\u001b[0;36m5\u001b[0m\u001b[0;34m,\u001b[0m\u001b[0;34m'himanshu'\u001b[0m\u001b[0;34m)\u001b[0m\u001b[0;34m\u001b[0m\u001b[0;34m\u001b[0m\u001b[0m\n\u001b[0;32m----> 3\u001b[0;31m \u001b[0mmy_tuple\u001b[0m\u001b[0;34m[\u001b[0m\u001b[0;34m-\u001b[0m\u001b[0;36m1\u001b[0m\u001b[0;34m]\u001b[0m\u001b[0;34m,\u001b[0m\u001b[0mmy_tuple\u001b[0m\u001b[0;34m[\u001b[0m\u001b[0;36m0\u001b[0m\u001b[0;34m]\u001b[0m\u001b[0;34m=\u001b[0m\u001b[0mmy_tuple\u001b[0m\u001b[0;34m[\u001b[0m\u001b[0;36m0\u001b[0m\u001b[0;34m]\u001b[0m\u001b[0;34m,\u001b[0m\u001b[0mmy_tuple\u001b[0m\u001b[0;34m[\u001b[0m\u001b[0;34m-\u001b[0m\u001b[0;36m1\u001b[0m\u001b[0;34m]\u001b[0m\u001b[0;34m\u001b[0m\u001b[0;34m\u001b[0m\u001b[0m\n\u001b[0m\u001b[1;32m      4\u001b[0m \u001b[0mprint\u001b[0m\u001b[0;34m(\u001b[0m\u001b[0mmy_tuple\u001b[0m\u001b[0;34m)\u001b[0m\u001b[0;34m\u001b[0m\u001b[0;34m\u001b[0m\u001b[0m\n",
            "\u001b[0;31mTypeError\u001b[0m: 'tuple' object does not support item assignment"
          ]
        }
      ]
    },
    {
      "cell_type": "code",
      "source": [
        "#Write a program that performs basic arithmetic operations on two user-input numbers.\n",
        "def main():\n",
        "    print(\"Basic Arithmetic Operations\")\n",
        "\n",
        "    # Get user input\n",
        "    num1 = float(input(\"Enter the first number: \"))\n",
        "    num2 = float(input(\"Enter the second number: \"))\n",
        "\n",
        "    # Perform operations\n",
        "    addition = num1 + num2\n",
        "    subtraction = num1 - num2\n",
        "    multiplication = num1 * num2\n",
        "\n",
        "    # Handle division by zero\n",
        "    if num2 != 0:\n",
        "        division = num1 / num2\n",
        "    else:\n",
        "        division = \"Undefined (cannot divide by zero)\"\n",
        "\n",
        "    # Display results\n",
        "    print(\"\\nResults:\")\n",
        "    print(f\"{num1} + {num2} = {addition}\")\n",
        "    print(f\"{num1} - {num2} = {subtraction}\")\n",
        "    print(f\"{num1} * {num2} = {multiplication}\")\n",
        "    print(f\"{num1} / {num2} = {division}\")\n",
        "\n",
        "if __name__ == \"__main__\":\n",
        "    main()\n"
      ],
      "metadata": {
        "colab": {
          "base_uri": "https://localhost:8080/"
        },
        "id": "pVHlxWaQueaN",
        "outputId": "6b6a7850-f98d-43cf-c9fd-44c375f24015"
      },
      "id": "pVHlxWaQueaN",
      "execution_count": 46,
      "outputs": [
        {
          "output_type": "stream",
          "name": "stdout",
          "text": [
            "Basic Arithmetic Operations\n",
            "Enter the first number: 13.25\n",
            "Enter the second number: 12.45\n",
            "\n",
            "Results:\n",
            "13.25 + 12.45 = 25.7\n",
            "13.25 - 12.45 = 0.8000000000000007\n",
            "13.25 * 12.45 = 164.96249999999998\n",
            "13.25 / 12.45 = 1.06425702811245\n"
          ]
        }
      ]
    },
    {
      "cell_type": "code",
      "source": [
        "# Write a program to demonstrate the use of logical operators.\n",
        "#logically operators are =(and, or, not)\n",
        "# Logical AND operator (and)\n",
        "x = 1\n",
        "y = 15\n",
        "if x > 0 and y <= 15:\n",
        "    print(\"Both conditions are true.\")\n",
        "else:\n",
        "    print(\"At least one condition is false.\")"
      ],
      "metadata": {
        "colab": {
          "base_uri": "https://localhost:8080/"
        },
        "id": "CtUWfOzNwhsq",
        "outputId": "29cc2c9f-1d33-4d02-aecb-16a1ca4969a8"
      },
      "id": "CtUWfOzNwhsq",
      "execution_count": 52,
      "outputs": [
        {
          "output_type": "stream",
          "name": "stdout",
          "text": [
            "Both conditions are true.\n"
          ]
        }
      ]
    },
    {
      "cell_type": "code",
      "source": [
        "# Logical OR operator (or)\n",
        "a = 37\n",
        "b = 87\n",
        "if a > 30 or b > 88:\n",
        "    print(\"At least one condition is true.\")\n",
        "else:\n",
        "    print(\"Both conditions are false.\")"
      ],
      "metadata": {
        "colab": {
          "base_uri": "https://localhost:8080/"
        },
        "id": "jaKGq6WRxym7",
        "outputId": "8335bf51-a549-49f3-c924-cbae0afdff1c"
      },
      "id": "jaKGq6WRxym7",
      "execution_count": 53,
      "outputs": [
        {
          "output_type": "stream",
          "name": "stdout",
          "text": [
            "At least one condition is true.\n"
          ]
        }
      ]
    },
    {
      "cell_type": "code",
      "source": [
        "# Logical NOT operator (not)\n",
        "z = 12\n",
        "if not (z > 15):\n",
        "    print(\"The condition is false, so the not operator makes it true.\")\n",
        "else:\n",
        "    print(\"The condition is true, so the not operator makes it false.\")"
      ],
      "metadata": {
        "colab": {
          "base_uri": "https://localhost:8080/"
        },
        "id": "0MloWdCKyQ7F",
        "outputId": "651d8627-7e94-440c-b921-a134737299e4"
      },
      "id": "0MloWdCKyQ7F",
      "execution_count": 54,
      "outputs": [
        {
          "output_type": "stream",
          "name": "stdout",
          "text": [
            "The condition is false, so the not operator makes it true.\n"
          ]
        }
      ]
    },
    {
      "cell_type": "code",
      "source": [
        "# Write a Python program to convert user input from string to integer, float, and boolean types.\n",
        "#str to int\n",
        "a=\"2\"\n",
        "print (type(a))\n",
        "print(type(int(a)))"
      ],
      "metadata": {
        "colab": {
          "base_uri": "https://localhost:8080/"
        },
        "id": "DhVA7JCSygjh",
        "outputId": "3587f5cc-6071-4aec-e7fc-f9ad27fc0d32"
      },
      "id": "DhVA7JCSygjh",
      "execution_count": 56,
      "outputs": [
        {
          "output_type": "stream",
          "name": "stdout",
          "text": [
            "<class 'str'>\n",
            "<class 'int'>\n"
          ]
        }
      ]
    },
    {
      "cell_type": "code",
      "source": [
        "#str to float\n",
        "a=\"2.0\"\n",
        "type(a)\n",
        "b=float(b)\n",
        "print(type(float(a)))"
      ],
      "metadata": {
        "colab": {
          "base_uri": "https://localhost:8080/"
        },
        "id": "N_XRA8Zbzull",
        "outputId": "9007554b-88de-4bd8-e4a9-6f44e22feed5"
      },
      "id": "N_XRA8Zbzull",
      "execution_count": 58,
      "outputs": [
        {
          "output_type": "stream",
          "name": "stdout",
          "text": [
            "<class 'float'>\n"
          ]
        }
      ]
    },
    {
      "cell_type": "code",
      "source": [
        "#bool in terms of str\n",
        "a=bool(\"Himanshu\")\n",
        "b=bool(\"\")\n",
        "c=bool(-45)\n",
        "print(a)\n",
        "print(b)\n",
        "print(c)"
      ],
      "metadata": {
        "colab": {
          "base_uri": "https://localhost:8080/"
        },
        "id": "0T2JCbfD0Qwu",
        "outputId": "6a476518-9922-4047-eb2e-f12709b0bbca"
      },
      "id": "0T2JCbfD0Qwu",
      "execution_count": 64,
      "outputs": [
        {
          "output_type": "stream",
          "name": "stdout",
          "text": [
            "True\n",
            "False\n",
            "True\n"
          ]
        }
      ]
    },
    {
      "cell_type": "code",
      "source": [
        "def convert_input():\n",
        "    user_input = input(\"Enter a value: \")\n",
        "\n",
        "    try:\n",
        "        # Attempt to convert to integer\n",
        "        integer_value = int(user_input)\n",
        "        print(f\"Integer: {integer_value}\")\n",
        "    except ValueError:\n",
        "        print(\"Not an integer.\")\n",
        "\n",
        "    try:\n",
        "        # Attempt to convert to float\n",
        "        float_value = float(user_input)\n",
        "        print(f\"Float: {float_value}\")\n",
        "    except ValueError:\n",
        "        print(\"Not a float.\")\n",
        "\n",
        "    # Attempt to convert to boolean\n",
        "    if user_input.lower() == \"true\":\n",
        "        boolean_value = True\n",
        "    elif user_input.lower() == \"false\":\n",
        "        boolean_value = False\n",
        "    else:\n",
        "      try:\n",
        "        boolean_value = bool(int(user_input))\n",
        "      except ValueError:\n",
        "        boolean_value = None\n",
        "    if boolean_value is not None:\n",
        "        print(f\"Boolean: {boolean_value}\")\n",
        "    else:\n",
        "        print(\"Not a boolean.\")\n",
        "\n",
        "convert_input()"
      ],
      "metadata": {
        "colab": {
          "base_uri": "https://localhost:8080/"
        },
        "id": "ZDO6rzis0iGn",
        "outputId": "a34720e3-0578-49fb-e134-ca64186ee191"
      },
      "id": "ZDO6rzis0iGn",
      "execution_count": 65,
      "outputs": [
        {
          "output_type": "stream",
          "name": "stdout",
          "text": [
            "Enter a value: 100\n",
            "Integer: 100\n",
            "Float: 100.0\n",
            "Boolean: True\n"
          ]
        }
      ]
    },
    {
      "cell_type": "code",
      "source": [
        "# Write code to demonstrate type casting with list elements.\n",
        "my_list = [\"1\", \"2\", \"3\", \"4\"]\n",
        "int_list = [int(x) for x in my_list]\n",
        "print(int_list)\n",
        "print(type(int_list[0]))"
      ],
      "metadata": {
        "colab": {
          "base_uri": "https://localhost:8080/"
        },
        "id": "Zg_ETZZZ1J6m",
        "outputId": "98d5abfa-dcf4-4f30-82a1-8fcace2284b8"
      },
      "id": "Zg_ETZZZ1J6m",
      "execution_count": 66,
      "outputs": [
        {
          "output_type": "stream",
          "name": "stdout",
          "text": [
            "[1, 2, 3, 4]\n",
            "<class 'int'>\n"
          ]
        }
      ]
    },
    {
      "cell_type": "code",
      "source": [
        "#Write a program that checks if a number is positive, negative, or zero.\n",
        "\n",
        "# Input from user\n",
        "num = float(input(\"Enter a number: \"))\n",
        "\n",
        "# Check conditions\n",
        "if num > 0:\n",
        "    print(\"The number is positive.\")\n",
        "elif num < 0:\n",
        "    print(\"The number is negative.\")\n",
        "else:\n",
        "    print(\"The number is zero.\")"
      ],
      "metadata": {
        "colab": {
          "base_uri": "https://localhost:8080/"
        },
        "id": "gp-ujHCt12Du",
        "outputId": "046a3cef-ae39-4bda-d532-8c9f0b41d04e"
      },
      "id": "gp-ujHCt12Du",
      "execution_count": 68,
      "outputs": [
        {
          "output_type": "stream",
          "name": "stdout",
          "text": [
            "Enter a number: 42.50\n",
            "The number is positive.\n"
          ]
        }
      ]
    },
    {
      "cell_type": "code",
      "source": [
        "#Write a for loop to print numbers from 1 to 10.\n",
        "for i in range(1,11):\n",
        "    print(i)"
      ],
      "metadata": {
        "colab": {
          "base_uri": "https://localhost:8080/"
        },
        "id": "TVfLJoGo2PDL",
        "outputId": "2bcd35b1-fb3c-44c1-93c7-c7ecbc164c51"
      },
      "id": "TVfLJoGo2PDL",
      "execution_count": 69,
      "outputs": [
        {
          "output_type": "stream",
          "name": "stdout",
          "text": [
            "1\n",
            "2\n",
            "3\n",
            "4\n",
            "5\n",
            "6\n",
            "7\n",
            "8\n",
            "9\n",
            "10\n"
          ]
        }
      ]
    },
    {
      "cell_type": "code",
      "source": [
        "# Write a Python program to find the sum of all even numbers between 1 and 50.\n",
        "total = 0\n",
        "for number in range(2, 51, 2):\n",
        "    total += number\n",
        "print(f\"The sum of even numbers between 1 and 50 is: {total}\")"
      ],
      "metadata": {
        "colab": {
          "base_uri": "https://localhost:8080/"
        },
        "id": "tb8cE9fc22Bc",
        "outputId": "48fcfc08-15cc-41bf-d6c3-9c83a8ed80fb"
      },
      "id": "tb8cE9fc22Bc",
      "execution_count": 70,
      "outputs": [
        {
          "output_type": "stream",
          "name": "stdout",
          "text": [
            "The sum of even numbers between 1 and 50 is: 650\n"
          ]
        }
      ]
    },
    {
      "cell_type": "code",
      "source": [
        "# Write a program to reverse a string using a while loop.\n",
        "# Get input from user\n",
        "original_string = input(\"Enter a string to reverse: \")\n",
        "\n",
        "# Initialize variables\n",
        "reversed_string = \"\"\n",
        "index = len(original_string) - 1\n",
        "\n",
        "# Use while loop to reverse the string\n",
        "while index >= 0:\n",
        "    reversed_string += original_string[index]\n",
        "    index -= 1\n",
        "\n",
        "# Output the reversed string\n",
        "print(\"Reversed string:\", reversed_string)"
      ],
      "metadata": {
        "colab": {
          "base_uri": "https://localhost:8080/"
        },
        "id": "dyJJJn364Zaw",
        "outputId": "03339baa-9b37-4095-f89c-02234787b4f5"
      },
      "id": "dyJJJn364Zaw",
      "execution_count": 73,
      "outputs": [
        {
          "output_type": "stream",
          "name": "stdout",
          "text": [
            "Enter a string to reverse: Hello World\n",
            "Reversed string: dlroW olleH\n"
          ]
        }
      ]
    },
    {
      "cell_type": "code",
      "source": [
        "# Write a Python program to calculate the factorial of a number provided by the user using a while loop.\n"
      ],
      "metadata": {
        "id": "B3vhR7QE46Zl"
      },
      "id": "B3vhR7QE46Zl",
      "execution_count": 73,
      "outputs": []
    }
  ],
  "metadata": {
    "kernelspec": {
      "display_name": "Python 3 (ipykernel)",
      "language": "python",
      "name": "python3"
    },
    "language_info": {
      "codemirror_mode": {
        "name": "ipython",
        "version": 3
      },
      "file_extension": ".py",
      "mimetype": "text/x-python",
      "name": "python",
      "nbconvert_exporter": "python",
      "pygments_lexer": "ipython3",
      "version": "3.13.4"
    },
    "colab": {
      "provenance": []
    }
  },
  "nbformat": 4,
  "nbformat_minor": 5
}